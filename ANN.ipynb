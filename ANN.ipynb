{
 "cells": [
  {
   "cell_type": "code",
   "execution_count": 3,
   "id": "425a6df7",
   "metadata": {},
   "outputs": [],
   "source": [
    "import numpy as np\n",
    "import random"
   ]
  },
  {
   "cell_type": "raw",
   "id": "23cde888",
   "metadata": {},
   "source": [
    "Input vector: x = (x1, . . . , xk )\n",
    "Real output vector: d = (d1, . . . , dJ )\n",
    "nh is the number of neurons of layer h \n",
    "n0 = k, nH = J.\n",
    "H − 1 hidden layers.\n",
    "Network weights. For each layer h, excluding the input layer:\n",
    "▶ Matrix with a vector of input weights for each neuron: Wh =\n",
    "(wh1, . . . , whnh)\n",
    "▶ Vector of weights of neuron j of layer h (includes bias): wh\n",
    "j =(whj0 ,whj1, . . . ,whjn(h−1))\n",
    "\n",
    "Network output: o = (o1, . . . , oJ )"
   ]
  },
  {
   "cell_type": "code",
   "execution_count": 21,
   "id": "5b252aaa",
   "metadata": {},
   "outputs": [],
   "source": [
    "#to powinna być ilość inputów chyba albo w sumie nie wiem czego więc na razie 10\n",
    "h = 10 \n",
    "\n",
    "# liczba layers\n",
    "H = 3\n",
    "\n",
    "#liczba neuronów w kolejnych layers\n",
    "neurons = []\n",
    "\n",
    "#macierz wektorów wag dla każdego nauronu\n",
    "#W[h][j] to wektor wag dla j-tego neuronu w h-tej warstwie\n",
    "W = []\n",
    "\n",
    "#wektor wag neuronu j w wartwie h\n",
    "w = []\n",
    "\n",
    "#siatki dla każdego neuronu w każdej wartwie\n",
    "#nets[h][j] - siatka dla j-tego neuronu w h-tej warstwie\n",
    "nets = []\n",
    "\n",
    "#outputy dla każdego neuronu w każdej wartwie\n",
    "#out[h][j] to output dla j-tego neuronu w h-tej warstwie\n",
    "out = []\n",
    "\n",
    "#wagi początkowe losujemy z przedziału -1,1\n",
    "initial_weights = [random.uniform(-1, 1) for _ in range(h)]\n",
    "W.append(initial_weights)\n"
   ]
  },
  {
   "cell_type": "code",
   "execution_count": 4,
   "id": "86e9bddc",
   "metadata": {},
   "outputs": [],
   "source": [
    "\n",
    "class Layer:\n",
    "    def __init__(self):\n",
    "        #macierz wektorów wag dla każdego neuronu\n",
    "        self.weights = []\n",
    "        self.outputs = []\n",
    "    "
   ]
  },
  {
   "cell_type": "code",
   "execution_count": 9,
   "id": "435a7010",
   "metadata": {},
   "outputs": [],
   "source": [
    "class InputLayer(Layer):\n",
    "    def __init__(self, inputs):\n",
    "        super().__init__()\n",
    "        self.outputs = inputs\n",
    "        \n",
    "    "
   ]
  },
  {
   "cell_type": "code",
   "execution_count": 12,
   "id": "cb6ea570",
   "metadata": {},
   "outputs": [],
   "source": [
    "class HiddenLayer(Layer):\n",
    "    def __init__(self):\n",
    "        super().__init__()\n",
    "        self.nets = []\n",
    "        self.deltas = []\n",
    "        \n",
    "    def backpropagation(self, next_layer):\n",
    "        h = len(self.weights)\n",
    "        for j in range(h):\n",
    "            for i in range(len(next_layer.weights)):\n",
    "                self.deltas[j] = dot(next_layer.weighs[i][j], next_layer.deltas[i]) * sigm_delta(nets[j])\n",
    "        \n",
    "\n",
    "    def propagateInputs(self, next_layer):\n",
    "        h = len(self.weights)\n",
    "        for j in range(h):\n",
    "            self.nets[j] = weights[j][0] + sum(weights[j][i+1]*next_layer.outputs[i+1] for i in range(h-2))\n",
    "            self.outputs[j] = sigm(nets[j])\n",
    "            \n",
    "    def accumulateChange(self, prev_layer):\n",
    "        h = len(self.weights)\n",
    "        for j in range(h):\n",
    "            self.delta_w[j][i] = self.delta_w[j][i] + self.deltas[j]*prev_layer.outputs[i]\n",
    "        self.delta_w = self.delta_w + self.deltas[j] \n",
    "        \n",
    "    def adjustWeights(self, prev_layer, lr, u):\n",
    "        h = len(self.weights)\n",
    "        for j in range(h+1):\n",
    "            for i in range(h+1):\n",
    "                self.weights[j][i] = self.weights[j][i] - lr*self.delta_w[j][i] - u*(lr*self.delta_w[j][i]*(t-1))\n",
    "\n",
    "            \n",
    "            \n",
    "    "
   ]
  },
  {
   "cell_type": "code",
   "execution_count": 14,
   "id": "2b64567e",
   "metadata": {},
   "outputs": [],
   "source": [
    "class NeuralNetwork:\n",
    "    def __init__(self, inputs, outputs):\n",
    "        #layers of our neural network\n",
    "        self.layers = []\n",
    "        self.output = []\n",
    "        self.d = outputs\n",
    "        #output to co nam wyjdzie, d to co wyjść powinno\n",
    "        \n",
    "    def add(self, layer: Layer):\n",
    "        self.layers.append(layer)\n",
    "        \n",
    "    def init_weights(self, h, neurons_num):\n",
    "        for layer in self.layers:\n",
    "            for i in range(neurons_num):\n",
    "                initial_weights = [random.uniform(-1, 1) for _ in range(h)]\n",
    "                layer.weights.append(initial_weights)\n",
    "        \n",
    "    def backpropagateError(self):\n",
    "        self.output = self.layers[-1].outputs\n",
    "        H = len(self.output)\n",
    "        \n",
    "        for j in range(H):\n",
    "            delta[j] = -(d[j] - self.output[j]) * sigm_delta(self.layers[-1].nets[j])\n",
    "        \n",
    "    \n",
    "        "
   ]
  },
  {
   "cell_type": "code",
   "execution_count": 22,
   "id": "0c9fd06a",
   "metadata": {},
   "outputs": [],
   "source": [
    "def sigm(x):\n",
    "    return 1/(1+exp(-x))"
   ]
  },
  {
   "cell_type": "code",
   "execution_count": 5,
   "id": "7ed0b890",
   "metadata": {},
   "outputs": [],
   "source": [
    "def sigm_delta(x):\n",
    "    return sigm(x)*(1-sigm(x))"
   ]
  },
  {
   "cell_type": "code",
   "execution_count": 16,
   "id": "64ecec72",
   "metadata": {},
   "outputs": [],
   "source": [
    "def adjustWeights():\n",
    "    pass"
   ]
  },
  {
   "cell_type": "code",
   "execution_count": 17,
   "id": "9cba4255",
   "metadata": {},
   "outputs": [],
   "source": []
  },
  {
   "cell_type": "code",
   "execution_count": 19,
   "id": "28f0b16e",
   "metadata": {},
   "outputs": [],
   "source": []
  },
  {
   "cell_type": "code",
   "execution_count": null,
   "id": "7a7ee26c",
   "metadata": {},
   "outputs": [],
   "source": []
  }
 ],
 "metadata": {
  "kernelspec": {
   "display_name": "Python 3 (ipykernel)",
   "language": "python",
   "name": "python3"
  },
  "language_info": {
   "codemirror_mode": {
    "name": "ipython",
    "version": 3
   },
   "file_extension": ".py",
   "mimetype": "text/x-python",
   "name": "python",
   "nbconvert_exporter": "python",
   "pygments_lexer": "ipython3",
   "version": "3.11.5"
  }
 },
 "nbformat": 4,
 "nbformat_minor": 5
}
