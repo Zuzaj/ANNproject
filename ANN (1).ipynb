{
 "cells": [
  {
   "cell_type": "code",
   "execution_count": 3,
   "id": "425a6df7",
   "metadata": {},
   "outputs": [],
   "source": [
    "import numpy as np\n",
    "import random"
   ]
  },
  {
   "cell_type": "code",
   "execution_count": 4,
   "id": "86e9bddc",
   "metadata": {},
   "outputs": [],
   "source": [
    "\n",
    "class Layer:\n",
    "    def __init__(self):\n",
    "        #macierz wektorów wag dla każdego neuronu\n",
    "        self.outputs = []\n",
    "    "
   ]
  },
  {
   "cell_type": "code",
   "execution_count": 9,
   "id": "435a7010",
   "metadata": {},
   "outputs": [],
   "source": [
    "class InputLayer(Layer):\n",
    "    def __init__(self, inputs):\n",
    "        super().__init__()\n",
    "        self.outputs = inputs\n",
    "        \n",
    "    "
   ]
  },
  {
   "cell_type": "code",
   "execution_count": 16,
   "id": "cb6ea570",
   "metadata": {},
   "outputs": [],
   "source": [
    "class HiddenLayer(Layer):\n",
    "    def __init__(self):\n",
    "        super().__init__()\n",
    "        self.nets = []\n",
    "        self.deltas = []\n",
    "        self.delta_w = []\n",
    "        self.weights = []\n",
    "        \n",
    "    def backpropagation(self, next_layer, neurons):\n",
    "        for j in range(neurons):\n",
    "            self.deltas[j] = dot(next_layer.weighs[j], next_layer.deltas) * sigm_delta(self.nets[j])\n",
    "        \n",
    "\n",
    "    def propagateInputs(self, prev_layer):\n",
    "        neurons = len(self.weights)\n",
    "        for j in range(neurons):\n",
    "            self.nets[j] = self.weights[j][0] + dot(self.weights[j],prev_layer.outputs)\n",
    "            self.outputs[j] = sigm(nets[j])\n",
    "            \n",
    "    def accumulateChange(self, prev_layer):\n",
    "        neurons = len(prev_layer.weights)\n",
    "        for j in range(len(self.outputs)):\n",
    "            for i in range(1, neurons+1):\n",
    "                self.delta_w[j][i] = self.delta_w[j][i] + self.deltas[j]*prev_layer.outputs[i]\n",
    "            self.delta_w[j][0] = self.delta_w[j][0] + self.deltas[j] \n",
    "        \n",
    "    def adjustWeights(self, prev_layer, neurons, lr, u):\n",
    "#         h = len(self.weights)\n",
    "        for j in range(neurons):\n",
    "            for i in range(len(prev_layer.outputs)):\n",
    "                self.weights[j][i] = self.weights[j][i] - lr*self.delta_w[j][i] - u*(lr*self.delta_w[j][i]*(t-1))\n",
    "\n",
    "            \n",
    "            \n",
    "    "
   ]
  },
  {
   "cell_type": "code",
   "execution_count": 17,
   "id": "2b64567e",
   "metadata": {},
   "outputs": [],
   "source": [
    "class NeuralNetwork:\n",
    "    def __init__(self, inputs, outputs):\n",
    "        #layers of our neural network\n",
    "        self.layers = []\n",
    "        self.output = []\n",
    "        self.d = outputs\n",
    "        #output to co nam wyjdzie, d to co wyjść powinno\n",
    "        \n",
    "    def add(self, layer: Layer):\n",
    "        self.layers.append(layer)\n",
    "        \n",
    "    def init_weights(self, h, neurons_num):\n",
    "        for layer in self.layers:\n",
    "            for i in range(neurons_num):\n",
    "                initial_weights = [random.uniform(-1, 1) for _ in range(h)]\n",
    "                layer.weights.append(initial_weights)\n",
    "        \n",
    "    def backpropagateError(self, neurons):\n",
    "        self.output = self.layers[-1].outputs\n",
    "#         H = len(self.output)\n",
    "        \n",
    "        for j in range(neurons):\n",
    "            delta[j] = -(d[j] - self.output[j]) * sigm_delta(self.layers[-1].nets[j])\n",
    "            \n",
    "    def predict(self, data):\n",
    "        \n",
    "        patterns = len(data)\n",
    "        first_l = InputLayer(data)\n",
    "        self.add(first_l)\n",
    "        \n",
    "        for pattern in range(patterns):\n",
    "            for i in range(len(self.layers)):\n",
    "                self.output.append(self.layers[i].propagateInputs(self.layers[i-1]))\n",
    "            \n",
    "        \n",
    "    \n",
    "        "
   ]
  },
  {
   "cell_type": "code",
   "execution_count": 22,
   "id": "0c9fd06a",
   "metadata": {},
   "outputs": [],
   "source": [
    "def sigm(x):\n",
    "    return 1/(1+exp(-x))"
   ]
  },
  {
   "cell_type": "code",
   "execution_count": 5,
   "id": "7ed0b890",
   "metadata": {},
   "outputs": [],
   "source": [
    "def sigm_delta(x):\n",
    "    return sigm(x)*(1-sigm(x))"
   ]
  },
  {
   "cell_type": "code",
   "execution_count": 7,
   "id": "64ecec72",
   "metadata": {},
   "outputs": [],
   "source": [
    "from csv import reader\n",
    "\n",
    "def load_dataset(file_path):\n",
    "    with open(file_path, 'r') as file:\n",
    "        #read first line\n",
    "        # k - inputs\n",
    "        # J - outputs\n",
    "        # N - patterns\n",
    "        k, J, N = map(int, file.readline().split())\n",
    "        \n",
    "        inputs = []\n",
    "        outputs = []\n",
    "        \n",
    "        # read N patterns\n",
    "        for _ in range(N):\n",
    "            line = file.readline().split()\n",
    "\n",
    "            pattern_inputs = list(map(float, line[:k]))\n",
    "            pattern_outputs = list(map(float, line[k:]))\n",
    "\n",
    "            inputs.append(pattern_inputs)\n",
    "            outputs.append(pattern_outputs)\n",
    "    \n",
    "    return inputs, outputs\n",
    "        "
   ]
  },
  {
   "cell_type": "code",
   "execution_count": 15,
   "id": "9cba4255",
   "metadata": {},
   "outputs": [
    {
     "name": "stdout",
     "output_type": "stream",
     "text": [
      "1274\n",
      "1274\n",
      "4\n",
      "4\n"
     ]
    }
   ],
   "source": [
    "#train sets\n",
    "in_digits, out_digits = load_dataset('Downloads/datasets/digits/train_digits.dat')\n",
    "in_xor, out_xor = load_dataset('Downloads/datasets/xor/train_xor.dat')\n",
    "\n",
    "#tyle mamy patterns\n",
    "print(len(in_digits))\n",
    "print(len(out_digits))\n",
    "print(len(in_xor))\n",
    "print(len(out_xor))\n"
   ]
  },
  {
   "cell_type": "code",
   "execution_count": 19,
   "id": "28f0b16e",
   "metadata": {},
   "outputs": [],
   "source": []
  },
  {
   "cell_type": "code",
   "execution_count": null,
   "id": "7a7ee26c",
   "metadata": {},
   "outputs": [],
   "source": []
  }
 ],
 "metadata": {
  "kernelspec": {
   "display_name": "Python 3 (ipykernel)",
   "language": "python",
   "name": "python3"
  },
  "language_info": {
   "codemirror_mode": {
    "name": "ipython",
    "version": 3
   },
   "file_extension": ".py",
   "mimetype": "text/x-python",
   "name": "python",
   "nbconvert_exporter": "python",
   "pygments_lexer": "ipython3",
   "version": "3.11.5"
  }
 },
 "nbformat": 4,
 "nbformat_minor": 5
}
