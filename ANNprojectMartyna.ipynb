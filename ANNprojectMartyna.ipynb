{
 "cells": [
  {
   "cell_type": "code",
   "execution_count": 1,
   "id": "22157a8c",
   "metadata": {},
   "outputs": [],
   "source": [
    "import numpy as np\n",
    "import random"
   ]
  },
  {
   "cell_type": "code",
   "execution_count": 2,
   "id": "6880ae38",
   "metadata": {},
   "outputs": [],
   "source": [
    "def sigm(x):\n",
    "    return 1/(1+exp(-x))\n",
    "\n",
    "def sigm_delta(x):\n",
    "    return sigm(x)*(1-sigm(x))"
   ]
  },
  {
   "cell_type": "code",
   "execution_count": 3,
   "id": "b139cd0a",
   "metadata": {},
   "outputs": [],
   "source": [
    "class Layer:\n",
    "    def __init__(self):\n",
    "        #macierz wektorów wag dla każdego neuronu\n",
    "        self.weights = []\n",
    "        self.outputs = []"
   ]
  },
  {
   "cell_type": "code",
   "execution_count": 4,
   "id": "5833fbd2",
   "metadata": {},
   "outputs": [],
   "source": [
    "class InputLayer(Layer):\n",
    "    def __init__(self, inputs):\n",
    "        super().__init__()\n",
    "        self.outputs = inputs\n",
    "        "
   ]
  },
  {
   "cell_type": "code",
   "execution_count": 5,
   "id": "19e41497",
   "metadata": {},
   "outputs": [],
   "source": [
    "class HiddenLayer(Layer):\n",
    "    def __init__(self):\n",
    "        super().__init__()\n",
    "        self.nets = []\n",
    "        self.deltas = []\n",
    "        \n",
    "    def backpropagation(self, next_layer):\n",
    "        h = len(self.weights)\n",
    "        for j in range(h):\n",
    "            for i in range(len(next_layer.weights)):\n",
    "                self.deltas[j] = dot(next_layer.weighs[i][j], next_layer.deltas[i]) * sigm_delta(nets[j])\n",
    "        \n",
    "\n",
    "    def propagateInputs(self, next_layer):\n",
    "        h = len(self.weights)\n",
    "        for j in range(h):\n",
    "            self.nets[j] = self.weights[j][0] + sum(dot(self.weights[j],next_layer.outputs))\n",
    "            self.outputs[j] = sigm(nets[j])\n",
    "            \n",
    "    def accumulateChange(self, prev_layer):\n",
    "        #czym jest i? \n",
    "        #o to chyba jest liczba neuronow w danej warstwie czyli liczba nets(?)\n",
    "        h = len(self.weights)\n",
    "        for j in range(h):\n",
    "            self.delta_w[j][i] = self.delta_w[j][i] + self.deltas[j]*prev_layer.outputs[i]\n",
    "        self.delta_w = self.delta_w + self.deltas[j] \n",
    "        \n",
    "    def adjustWeights(self, prev_layer, lr, u):\n",
    "        h = len(self.weights)\n",
    "        \n",
    "        for j in range(h):\n",
    "            for i in range(len(prev_layer.weights)):\n",
    "                self.weights[j][i] = self.weights[j][i] - lr*self.delta_w[j][i] - u*(lr*self.delta_w[j][i]*(t-1))\n",
    "            "
   ]
  },
  {
   "cell_type": "code",
   "execution_count": null,
   "id": "dd5167a3",
   "metadata": {},
   "outputs": [],
   "source": [
    "class NeuralNetwork:\n",
    "    #ja bym rozwazyla podanie rowniez listy ktora bedzie trztymala ile jest neuronow w danej warstwie typu [4 5 6 7 1] \n",
    "    #wtedy init weights sie robi latwiejsze\n",
    "    def __init__(self,num_of_layers, inputs, outputs):\n",
    "        #layers of our neural network\n",
    "        self.layers = []\n",
    "        self.output = []\n",
    "        self.num_of_layers= num_of_layers\n",
    "        self.d = outputs\n",
    "        #output to co nam wyjdzie, d to co wyjść powinno\n",
    "        \n",
    "        self.layers[0] = InputLayer(inputs)\n",
    "        #tutaj mozliwe ze bedzie musialo byc num - 1\n",
    "        self.layers[i] = Hidden Layer() for i in range(1,self.num_of_layers)\n",
    "        self.init_weights()\n",
    "        \n",
    "    def add(self, layer: Layer):\n",
    "        self.layers.append(layer)\n",
    "    \n",
    "    \n",
    "    #czyli tutaj h to jest liczba neuronow w danej warstwie a neurons_num  owi o poprzedniej warstwie? \n",
    "    # bo macierze weight sa rozmiaru liczba neuronow w poprzedniej warstwie x liczba neuronow w danej warstwie\n",
    "    def init_weights(self, h, neurons_num):\n",
    "        for layer in self.layers:\n",
    "            for i in range(neurons_num):\n",
    "                initial_weights = [random.uniform(-1, 1) for _ in range(h)]\n",
    "                layer.weights.append(initial_weights)\n",
    "        \n",
    "    def backpropagateError(self):\n",
    "        self.output = self.layers[-1].outputs\n",
    "        H = len(self.output)\n",
    "        \n",
    "        for j in range(H):\n",
    "            delta[j] = -(d[j] - self.output[j]) * sigm_delta(self.layers[-1].nets[j])\n",
    "            \n",
    "    "
   ]
  },
  {
   "cell_type": "code",
   "execution_count": 6,
   "id": "cbb76a11",
   "metadata": {},
   "outputs": [],
   "source": []
  },
  {
   "cell_type": "code",
   "execution_count": null,
   "id": "55ede9af",
   "metadata": {},
   "outputs": [],
   "source": []
  }
 ],
 "metadata": {
  "kernelspec": {
   "display_name": "Python 3 (ipykernel)",
   "language": "python",
   "name": "python3"
  },
  "language_info": {
   "codemirror_mode": {
    "name": "ipython",
    "version": 3
   },
   "file_extension": ".py",
   "mimetype": "text/x-python",
   "name": "python",
   "nbconvert_exporter": "python",
   "pygments_lexer": "ipython3",
   "version": "3.11.4"
  }
 },
 "nbformat": 4,
 "nbformat_minor": 5
}
